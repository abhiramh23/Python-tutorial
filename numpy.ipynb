{
 "cells": [
  {
   "cell_type": "markdown",
   "metadata": {},
   "source": [
    "# Well come to numpy library in python "
   ]
  },
  {
   "cell_type": "markdown",
   "metadata": {},
   "source": [
    "## Array in numpy\n",
    "  to install pip install numpy"
   ]
  },
  {
   "cell_type": "markdown",
   "metadata": {},
   "source": [
    "### Function/Method in numpy for array"
   ]
  },
  {
   "cell_type": "markdown",
   "metadata": {},
   "source": [
    "       arange\n",
    "* it generate 1-d array\n",
    "* it take stop value where it start with 0 \n",
    "* we change it by giving two values start(*first argument*) and stop(*second argument*)\n",
    "* we can jump value by giving step(*third argument*) value\n",
    "* we can use negative numbers"
   ]
  },
  {
   "cell_type": "code",
   "execution_count": 1,
   "metadata": {},
   "outputs": [
    {
     "name": "stdout",
     "output_type": "stream",
     "text": [
      "[0 1 2 3 4 5 6 7]\n",
      "<class 'numpy.ndarray'>\n"
     ]
    }
   ],
   "source": [
    "import numpy as np\n",
    "my_array = np.arange(8)\n",
    "print(my_array)\n",
    "print(type(my_array))\n"
   ]
  },
  {
   "cell_type": "code",
   "execution_count": 2,
   "metadata": {},
   "outputs": [
    {
     "name": "stdout",
     "output_type": "stream",
     "text": [
      "[1 2 3 4 5 6 7]\n",
      "<class 'numpy.ndarray'>\n"
     ]
    }
   ],
   "source": [
    "import numpy as np\n",
    "my_array = np.arange(1,8)\n",
    "print(my_array)\n",
    "print(type(my_array))\n"
   ]
  },
  {
   "cell_type": "code",
   "execution_count": 3,
   "metadata": {},
   "outputs": [
    {
     "name": "stdout",
     "output_type": "stream",
     "text": [
      "[1 4 7]\n",
      "<class 'numpy.ndarray'>\n"
     ]
    }
   ],
   "source": [
    "import numpy as np\n",
    "my_array = np.arange(1,8,3)\n",
    "print(my_array)\n",
    "print(type(my_array))\n"
   ]
  },
  {
   "cell_type": "markdown",
   "metadata": {},
   "source": [
    "     array\n",
    "* it generate form list\n",
    "* we can change type of data by using `dtype`\n",
    "* we can create multi-dimension array"
   ]
  },
  {
   "cell_type": "code",
   "execution_count": 4,
   "metadata": {},
   "outputs": [
    {
     "name": "stdout",
     "output_type": "stream",
     "text": [
      "[1 2 3]\n",
      "<class 'numpy.ndarray'>\n",
      "<class 'numpy.int8'>\n"
     ]
    }
   ],
   "source": [
    "import numpy as np\n",
    "from_list = np.array([1,2,3],dtype=np.int8)\n",
    "print(from_list)\n",
    "print(type(from_list))\n",
    "print(type(from_list[0]))\n"
   ]
  },
  {
   "cell_type": "code",
   "execution_count": 5,
   "metadata": {},
   "outputs": [
    {
     "name": "stdout",
     "output_type": "stream",
     "text": [
      "[[1 2 3]\n",
      " [4 5 6]]\n",
      "<class 'numpy.ndarray'>\n",
      "<class 'numpy.int8'>\n",
      "[[0 2 4 6]\n",
      " [0 2 4 6]]\n",
      "<class 'numpy.ndarray'>\n",
      "<class 'numpy.int8'>\n"
     ]
    }
   ],
   "source": [
    "import numpy as np\n",
    "from_list = np.array([[1,2,3],[4,5,6]],dtype=np.int8)\n",
    "array_2d = np.array((np.arange(0,8,2),np.arange(0,8,2)),dtype=np.int8)\n",
    "print(from_list)\n",
    "print(type(from_list))\n",
    "print(type(from_list[0][0]))\n",
    "print(array_2d)\n",
    "print(type(array_2d))\n",
    "print(type(array_2d[0][0]))\n"
   ]
  },
  {
   "cell_type": "markdown",
   "metadata": {},
   "source": [
    "    empty array\n",
    "* we have different methods to create empty arrays"
   ]
  }
 ],
 "metadata": {
  "kernelspec": {
   "display_name": "Python 3",
   "language": "python",
   "name": "python3"
  },
  "language_info": {
   "codemirror_mode": {
    "name": "ipython",
    "version": 3
   },
   "file_extension": ".py",
   "mimetype": "text/x-python",
   "name": "python",
   "nbconvert_exporter": "python",
   "pygments_lexer": "ipython3",
   "version": "3.12.0"
  }
 },
 "nbformat": 4,
 "nbformat_minor": 2
}
