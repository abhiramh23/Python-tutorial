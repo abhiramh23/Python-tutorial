{
 "cells": [
  {
   "cell_type": "markdown",
   "metadata": {},
   "source": [
    "OS module in python provide method/function to access files and directory"
   ]
  },
  {
   "cell_type": "code",
   "execution_count": 4,
   "metadata": {},
   "outputs": [
    {
     "data": {
      "text/plain": [
       "'p:\\\\PROG\\\\python\\\\tutorial'"
      ]
     },
     "execution_count": 4,
     "metadata": {},
     "output_type": "execute_result"
    }
   ],
   "source": [
    "import os\n",
    "os.getcwd()"
   ]
  },
  {
   "cell_type": "markdown",
   "metadata": {},
   "source": [
    "`listdir()` is method to list all directory and files "
   ]
  },
  {
   "cell_type": "code",
   "execution_count": 9,
   "metadata": {},
   "outputs": [
    {
     "data": {
      "text/plain": [
       "['.git',\n",
       " '.gitignore',\n",
       " '.vscode',\n",
       " 'Data Type.ipynb',\n",
       " 'Djongo.ipynb',\n",
       " 'fl',\n",
       " 'Getting Started.ipynb',\n",
       " 'numpy.ipynb',\n",
       " 'OS.ipynb',\n",
       " 'Pandas.ipynb',\n",
       " 'Pathlib.ipynb',\n",
       " 'README.md',\n",
       " 'Scipy.ipynb',\n",
       " 'Seaborn.ipynb']"
      ]
     },
     "execution_count": 9,
     "metadata": {},
     "output_type": "execute_result"
    }
   ],
   "source": [
    "os.listdir()"
   ]
  },
  {
   "cell_type": "markdown",
   "metadata": {},
   "source": [
    "Create a file and folder/directory using method `mkdir()`(**single**) and `makedirs()`(**multiple**)  \n",
    "`path.join()` to join paths or strings to path in any os\n",
    "\n",
    "example\n",
    "``` python\n",
    "os.makedir(\"folder\") \n",
    "os.makedirs(\"folder\",\"folder1\") \n",
    "os.path.join(\"folder\",\"subfolder\",\"file\")\n",
    "```"
   ]
  },
  {
   "cell_type": "markdown",
   "metadata": {},
   "source": [
    "Delete a file using method `remove()`  \n",
    "example\n",
    "``` python\n",
    "os.remove(\"filename\")\n",
    "os.remove(\"folder/filename\")\n",
    "os.remove(\"../filename\") # relative path\n",
    "os.remove(\"C:/filename\") # absolute path\n",
    "``` "
   ]
  }
 ],
 "metadata": {
  "kernelspec": {
   "display_name": "Python 3",
   "language": "python",
   "name": "python3"
  },
  "language_info": {
   "codemirror_mode": {
    "name": "ipython",
    "version": 3
   },
   "file_extension": ".py",
   "mimetype": "text/x-python",
   "name": "python",
   "nbconvert_exporter": "python",
   "pygments_lexer": "ipython3",
   "version": "3.12.0"
  }
 },
 "nbformat": 4,
 "nbformat_minor": 2
}
